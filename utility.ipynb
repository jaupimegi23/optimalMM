{
 "cells": [
  {
   "cell_type": "code",
   "execution_count": null,
   "metadata": {},
   "outputs": [],
   "source": [
    "import matplotlib.pyplot as plt "
   ]
  },
  {
   "cell_type": "code",
   "execution_count": null,
   "metadata": {},
   "outputs": [],
   "source": [
    "def plot_single_experiemnt(agent_name, mid_price, bid_price, ask_price, rewards):\n",
    "\n",
    "    # Plot spread\n",
    "    plt.figure(figsize=(10,4), dpi=200)\n",
    "    plt.plot(mid_price, label='mid price')\n",
    "    plt.fill_between(range(len(mid_price)), bid_price, ask_price, alpha=0.5)\n",
    "    plt.plot(bid_price, label='bid price')\n",
    "    plt.plot(ask_price, label='ask price')\n",
    "    plt.legend()\n",
    "    plt.title(f'Spread Over Time ({agent_name})')\n",
    "    plt.show()\n",
    "    \n",
    "    # Plot rewards\n",
    "    plt.figure(figsize=(10,4), dpi=200)\n",
    "    plt.plot(rewards)\n",
    "    plt.title(f'Cumulative Reward Over Time ({agent_name})')\n",
    "    plt.show()"
   ]
  },
  {
   "cell_type": "code",
   "execution_count": null,
   "metadata": {},
   "outputs": [],
   "source": [
    "def single_experiment(agent_name, agent, env, show=True):\n",
    "\n",
    "    # Record\n",
    "    rewards = []\n",
    "    mid_price = []\n",
    "    bid_price = []\n",
    "    ask_price = []\n",
    "    volume = []\n",
    "    cash = []\n",
    "\n",
    "    # Initialize\n",
    "    disc_reward = 0\n",
    "    state = env.state()\n",
    "\n",
    "    # Experiment\n",
    "    while env.t < env.T:\n",
    "\n",
    "        # Random agent\n",
    "        if isinstance(agent, RandomAgent):\n",
    "            action = agent.get_action()\n",
    "            state, reward, done = env.step(np.array(action))\n",
    "\n",
    "        # Q-learning agent\n",
    "        elif isinstance(agent, QAgent):\n",
    "            action = agent.get_action(state=state)\n",
    "            next_state, reward, done = env.step(np.array(action))\n",
    "            agent.update_Q(action, reward, state, next_state)\n",
    "            agent.decay_epsilon()\n",
    "            state = next_state\n",
    "\n",
    "        # Multi-armed bandit agents\n",
    "        else:\n",
    "            action = agent.get_action()\n",
    "            state, reward, done = env.step(np.array(action))\n",
    "            agent.update_Q(action, reward)\n",
    "            if isinstance(agent, DecayEpsilonGreedyAgent):\n",
    "                agent.decay_epsilon()\n",
    "\n",
    "    \n",
    "        # Record\n",
    "        disc_reward += reward  \n",
    "        rewards.append(disc_reward)\n",
    "        mid_price.append(env.mid)\n",
    "        bid_price.append(env.mm_bid)\n",
    "        ask_price.append(env.mm_ask)\n",
    "        volume.append(state[0])\n",
    "        cash.append(env.X_t)\n",
    "\n",
    "    # Show single experiment results\n",
    "    if show:\n",
    "        env.render()\n",
    "        plot_single_experiemnt(agent_name, mid_price, bid_price, ask_price, rewards)\n",
    "\n",
    "    return rewards"
   ]
  }
 ],
 "metadata": {
  "language_info": {
   "name": "python"
  },
  "orig_nbformat": 4
 },
 "nbformat": 4,
 "nbformat_minor": 2
}
